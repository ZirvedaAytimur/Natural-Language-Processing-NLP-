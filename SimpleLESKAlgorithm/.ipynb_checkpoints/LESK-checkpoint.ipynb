{
 "cells": [
  {
   "cell_type": "markdown",
   "metadata": {},
   "source": [
    "###### You must download 'Zemberek library' then the code will work correctly."
   ]
  },
  {
   "cell_type": "code",
   "execution_count": 1,
   "metadata": {},
   "outputs": [],
   "source": [
    "from os.path import join\n",
    "from typing import List\n",
    "\n",
    "from jpype import JClass, getDefaultJVMPath, java, shutdownJVM, startJVM"
   ]
  },
  {
   "cell_type": "code",
   "execution_count": 2,
   "metadata": {},
   "outputs": [],
   "source": [
    "ZEMBEREK_PATH: str = join('..', '..', 'bin', 'zemberek-full.jar')"
   ]
  },
  {
   "cell_type": "code",
   "execution_count": 3,
   "metadata": {},
   "outputs": [],
   "source": [
    "startJVM(\n",
    "        getDefaultJVMPath(),\n",
    "        '-ea',\n",
    "        f'-Djava.class.path={ZEMBEREK_PATH}',\n",
    "        convertStrings=False\n",
    "    )\n",
    "\n",
    "TurkishMorphology: JClass = JClass('zemberek.morphology.TurkishMorphology')\n",
    "\n",
    "morphology: TurkishMorphology = TurkishMorphology.createWithDefaults()\n"
   ]
  },
  {
   "cell_type": "code",
   "execution_count": 4,
   "metadata": {},
   "outputs": [],
   "source": [
    "dictionary = {\n",
    "    \"yol-Verb\": \"Bitki, tüy vb.ni çekerek yerinden çıkarmak, çekip koparmak\",\n",
    "    \"yol-Noun\": \"Karada, havada, suda bir yerden bir yere gitmek için aşılan uzaklık, tarik.\"   \n",
    "}"
   ]
  },
  {
   "cell_type": "code",
   "execution_count": 5,
   "metadata": {},
   "outputs": [],
   "source": [
    "def findPOS(pos, analysis):\n",
    "    for i, analysis in enumerate(analysis, start=1):\n",
    "        pos.append(\n",
    "            f'{str(analysis.getLemmas()[0])}'\n",
    "            f'-{analysis.getPos().shortForm}'\n",
    "        )\n",
    "    return pos"
   ]
  },
  {
   "cell_type": "code",
   "execution_count": 6,
   "metadata": {},
   "outputs": [],
   "source": [
    "def printSolution(pos):\n",
    "    if(\"yol-Verb\" in pos):\n",
    "        print(dictionary[\"yol-Verb\"])\n",
    "    elif(\"yol-Noun\" in pos):\n",
    "        print(dictionary[\"yol-Noun\"])"
   ]
  },
  {
   "cell_type": "code",
   "execution_count": 7,
   "metadata": {},
   "outputs": [],
   "source": [
    "sentence: str = 'Saçlarını yolma.'\n",
    "sentence2: str = 'Yol bozuktu araba çok zorlandı.'"
   ]
  },
  {
   "cell_type": "code",
   "execution_count": 8,
   "metadata": {},
   "outputs": [],
   "source": [
    "analysis: java.util.ArrayList = (\n",
    "        morphology.analyzeAndDisambiguate(sentence).bestAnalysis()\n",
    "    )"
   ]
  },
  {
   "cell_type": "code",
   "execution_count": 9,
   "metadata": {},
   "outputs": [],
   "source": [
    "analysis2: java.util.ArrayList = (\n",
    "        morphology.analyzeAndDisambiguate(sentence2).bestAnalysis()\n",
    "    )"
   ]
  },
  {
   "cell_type": "code",
   "execution_count": 10,
   "metadata": {},
   "outputs": [
    {
     "name": "stdout",
     "output_type": "stream",
     "text": [
      "['saç-Noun', 'yol-Verb', '.-Punc']\n",
      "['yol-Noun', 'bozuk-Verb', 'araba-Noun', 'çok-Adv', 'zorla-Verb', '.-Punc']\n"
     ]
    }
   ],
   "source": [
    "pos: List[str] = []\n",
    "print(findPOS(pos, analysis))\n",
    "pos2: List[str] = []\n",
    "print(findPOS(pos2, analysis2))"
   ]
  },
  {
   "cell_type": "code",
   "execution_count": 11,
   "metadata": {},
   "outputs": [
    {
     "name": "stdout",
     "output_type": "stream",
     "text": [
      "Bitki, tüy vb.ni çekerek yerinden çıkarmak, çekip koparmak\n"
     ]
    }
   ],
   "source": [
    "printSolution(pos)"
   ]
  },
  {
   "cell_type": "code",
   "execution_count": 12,
   "metadata": {},
   "outputs": [
    {
     "name": "stdout",
     "output_type": "stream",
     "text": [
      "Karada, havada, suda bir yerden bir yere gitmek için aşılan uzaklık, tarik.\n"
     ]
    }
   ],
   "source": [
    "printSolution(pos2)"
   ]
  },
  {
   "cell_type": "code",
   "execution_count": 13,
   "metadata": {},
   "outputs": [],
   "source": [
    "shutdownJVM()"
   ]
  }
 ],
 "metadata": {
  "kernelspec": {
   "display_name": "Python 3",
   "language": "python",
   "name": "python3"
  },
  "language_info": {
   "codemirror_mode": {
    "name": "ipython",
    "version": 3
   },
   "file_extension": ".py",
   "mimetype": "text/x-python",
   "name": "python",
   "nbconvert_exporter": "python",
   "pygments_lexer": "ipython3",
   "version": "3.8.3"
  }
 },
 "nbformat": 4,
 "nbformat_minor": 4
}
