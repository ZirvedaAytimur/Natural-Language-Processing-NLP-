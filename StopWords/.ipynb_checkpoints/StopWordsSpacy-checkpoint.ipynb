{
 "cells": [
  {
   "cell_type": "code",
   "execution_count": 1,
   "metadata": {},
   "outputs": [],
   "source": [
    "import spacy"
   ]
  },
  {
   "cell_type": "code",
   "execution_count": 2,
   "metadata": {},
   "outputs": [],
   "source": [
    "nlp = spacy.load('en_core_web_sm')"
   ]
  },
  {
   "cell_type": "code",
   "execution_count": 3,
   "metadata": {},
   "outputs": [
    {
     "name": "stdout",
     "output_type": "stream",
     "text": [
      "{'indeed', 'becomes', 'one', 'thence', 'alone', 'does', 'only', 'eight', 'noone', 'after', 'since', 'among', \"'ve\", 'been', '’ll', 'was', 'beforehand', 'enough', 'some', 'himself', 'who', 'four', 'both', 'go', 'eleven', 'nor', 'show', 'sixty', 're', 'across', 'before', 'except', 'until', 'wherever', 'however', 'get', 'through', 'yours', 'nothing', 'seemed', 'part', 'i', 'somewhere', 'many', 'in', 'into', 'too', 'although', 'be', 'anything', '‘ve', 'latter', 'fifteen', 'that', 'formerly', 'he', 'hereupon', 'yet', 'doing', 'seems', 'nobody', '’ve', '’d', 'sometimes', 'whereupon', 'most', 'beyond', 'yourself', 'always', 'the', 'perhaps', 'mostly', 'third', 'or', 'off', 'none', 'any', 'everyone', 'as', \"'ll\", 'towards', 'them', 'afterwards', 'this', 'on', 'three', 'former', 'thus', 'together', 'anyway', 'say', 'serious', 'whereas', 'well', 'elsewhere', 'hundred', 'few', 'whence', 'n’t', 'those', 'all', 'these', 'meanwhile', 'anyhow', 'hereby', 'with', 'had', 'being', 'else', 'so', 'would', 'is', 'ours', '‘s', '’s', 'further', 'whose', 'herein', 'move', 'therein', 'am', 'sometime', 'themselves', 'though', 'made', 'either', 'down', 'call', 'a', 'ever', 'us', 'still', 'if', 'might', 'really', 'more', 'where', 'she', 'seem', 'namely', 'at', 'an', 'something', 'than', 'onto', 'become', 'her', 'may', 'whatever', 'nowhere', 'our', 'hers', 'everything', 'yourselves', 'next', 'are', 'rather', 'whenever', 'over', 'out', 'side', 'own', 'make', 'there', 'least', 'do', 'how', 'now', 'no', 'per', 'someone', 'therefore', '‘d', 'your', 'me', 'what', 'which', 'behind', 'from', 'during', 'became', 'cannot', 'his', 'whom', 'whereafter', 'upon', 'to', 'why', 'between', 'about', 'besides', 'hereafter', 'everywhere', 'wherein', 'mine', 'him', 'even', 'first', 'thereby', 'neither', 'latterly', 'via', 'such', 'take', 'forty', 'quite', 'along', 'against', 'anywhere', 'fifty', 'last', 'also', 'can', 'otherwise', '‘ll', 'whereby', 'every', 'then', 'somehow', 'give', '’re', 'twenty', 'unless', 'moreover', 'ten', 'whether', 'front', 'others', 'please', 'empty', 'six', 'same', 'done', 'within', 'itself', 'it', 'herself', 'never', 'toward', \"'re\", 'has', 'top', 'once', 'under', 'used', 'each', \"'s\", \"n't\", 'amongst', 'keep', 'hence', 'thereafter', 'almost', 'just', \"'d\", 'but', 'much', 'twelve', 'for', 'very', 'up', 'without', 'amount', 'less', 'various', 'here', 'were', 'did', 'thru', 'you', 'and', 'will', \"'m\", 'another', 'n‘t', 'nevertheless', 'because', 'ourselves', 'anyone', 'thereupon', 'regarding', 'other', 'back', 'must', 'while', 'often', 'bottom', 'due', 'should', 'using', 'when', 'name', 'full', 'by', 'put', '‘m', 'its', 'my', 'seeming', 'below', 'could', 'whither', 'already', 'above', 'five', 'their', 'becoming', 'several', 'ca', 'again', 'see', 'they', 'myself', 'not', 'of', 'throughout', '’m', 'whole', 'two', 'we', 'beside', 'nine', '‘re', 'around', 'have', 'whoever'}\n"
     ]
    }
   ],
   "source": [
    "print(nlp.Defaults.stop_words)"
   ]
  },
  {
   "cell_type": "code",
   "execution_count": 4,
   "metadata": {},
   "outputs": [
    {
     "data": {
      "text/plain": [
       "326"
      ]
     },
     "execution_count": 4,
     "metadata": {},
     "output_type": "execute_result"
    }
   ],
   "source": [
    "len(nlp.Defaults.stop_words)"
   ]
  },
  {
   "cell_type": "code",
   "execution_count": 6,
   "metadata": {},
   "outputs": [
    {
     "data": {
      "text/plain": [
       "True"
      ]
     },
     "execution_count": 6,
     "metadata": {},
     "output_type": "execute_result"
    }
   ],
   "source": [
    "nlp.vocab['is'].is_stop"
   ]
  },
  {
   "cell_type": "code",
   "execution_count": 7,
   "metadata": {},
   "outputs": [
    {
     "data": {
      "text/plain": [
       "False"
      ]
     },
     "execution_count": 7,
     "metadata": {},
     "output_type": "execute_result"
    }
   ],
   "source": [
    "nlp.vocab['mystery'].is_stop"
   ]
  },
  {
   "cell_type": "code",
   "execution_count": 12,
   "metadata": {},
   "outputs": [],
   "source": [
    "# adding a new stop word"
   ]
  },
  {
   "cell_type": "code",
   "execution_count": 13,
   "metadata": {},
   "outputs": [],
   "source": [
    "nlp.Defaults.stop_words.add('btw')"
   ]
  },
  {
   "cell_type": "code",
   "execution_count": 14,
   "metadata": {},
   "outputs": [],
   "source": [
    "nlp.vocab['btw'].is_stop = True"
   ]
  },
  {
   "cell_type": "code",
   "execution_count": 15,
   "metadata": {},
   "outputs": [
    {
     "data": {
      "text/plain": [
       "327"
      ]
     },
     "execution_count": 15,
     "metadata": {},
     "output_type": "execute_result"
    }
   ],
   "source": [
    "len(nlp.Defaults.stop_words)"
   ]
  },
  {
   "cell_type": "code",
   "execution_count": 16,
   "metadata": {},
   "outputs": [
    {
     "data": {
      "text/plain": [
       "True"
      ]
     },
     "execution_count": 16,
     "metadata": {},
     "output_type": "execute_result"
    }
   ],
   "source": [
    "nlp.vocab['btw'].is_stop"
   ]
  },
  {
   "cell_type": "code",
   "execution_count": 17,
   "metadata": {},
   "outputs": [],
   "source": [
    "# removing a stop word"
   ]
  },
  {
   "cell_type": "code",
   "execution_count": 18,
   "metadata": {},
   "outputs": [],
   "source": [
    "nlp.Defaults.stop_words.remove('beyond')"
   ]
  },
  {
   "cell_type": "code",
   "execution_count": 19,
   "metadata": {},
   "outputs": [],
   "source": [
    "nlp.vocab['beyond'].is_stop = False"
   ]
  },
  {
   "cell_type": "code",
   "execution_count": 20,
   "metadata": {},
   "outputs": [
    {
     "data": {
      "text/plain": [
       "False"
      ]
     },
     "execution_count": 20,
     "metadata": {},
     "output_type": "execute_result"
    }
   ],
   "source": [
    "nlp.vocab['beyond'].is_stop"
   ]
  },
  {
   "cell_type": "code",
   "execution_count": null,
   "metadata": {},
   "outputs": [],
   "source": []
  }
 ],
 "metadata": {
  "kernelspec": {
   "display_name": "Python 3",
   "language": "python",
   "name": "python3"
  },
  "language_info": {
   "codemirror_mode": {
    "name": "ipython",
    "version": 3
   },
   "file_extension": ".py",
   "mimetype": "text/x-python",
   "name": "python",
   "nbconvert_exporter": "python",
   "pygments_lexer": "ipython3",
   "version": "3.8.3"
  }
 },
 "nbformat": 4,
 "nbformat_minor": 4
}
