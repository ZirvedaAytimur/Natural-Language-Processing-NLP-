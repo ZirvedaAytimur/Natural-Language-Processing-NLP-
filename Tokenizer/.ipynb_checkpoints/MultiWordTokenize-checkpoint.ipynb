{
 "cells": [
  {
   "cell_type": "code",
   "execution_count": 1,
   "metadata": {},
   "outputs": [],
   "source": [
    "from nltk.tokenize import MWETokenizer "
   ]
  },
  {
   "cell_type": "code",
   "execution_count": 2,
   "metadata": {},
   "outputs": [],
   "source": [
    "text = \"Alan Turing , İngiliz matematikçi, bilgisayar bilimcisi ve kriptolog. Bilgisayar biliminin kurucusu sayılır. Geliştirmiş oldugu Turing testi ile makinelerin ve bilgisayarların düşünme yetisine sahip olup olamayacakları konusunda bir kriter öne sürmüştür .\""
   ]
  },
  {
   "cell_type": "code",
   "execution_count": 3,
   "metadata": {},
   "outputs": [],
   "source": [
    "tk = MWETokenizer([('Alan', 'Turing'), ('öne', 'sürmüştür')])\n",
    "tk.add_mwe(('Bilgisayar', 'biliminin', 'kurucusu'))"
   ]
  },
  {
   "cell_type": "code",
   "execution_count": 4,
   "metadata": {},
   "outputs": [],
   "source": [
    "result = tk.tokenize(text.split())"
   ]
  },
  {
   "cell_type": "code",
   "execution_count": 5,
   "metadata": {},
   "outputs": [
    {
     "name": "stdout",
     "output_type": "stream",
     "text": [
      "['Alan_Turing', ',', 'İngiliz', 'matematikçi,', 'bilgisayar', 'bilimcisi', 've', 'kriptolog.', 'Bilgisayar_biliminin_kurucusu', 'sayılır.', 'Geliştirmiş', 'oldugu', 'Turing', 'testi', 'ile', 'makinelerin', 've', 'bilgisayarların', 'düşünme', 'yetisine', 'sahip', 'olup', 'olamayacakları', 'konusunda', 'bir', 'kriter', 'öne_sürmüştür', '.']\n"
     ]
    }
   ],
   "source": [
    "print(result)"
   ]
  }
 ],
 "metadata": {
  "kernelspec": {
   "display_name": "Python 3",
   "language": "python",
   "name": "python3"
  },
  "language_info": {
   "codemirror_mode": {
    "name": "ipython",
    "version": 3
   },
   "file_extension": ".py",
   "mimetype": "text/x-python",
   "name": "python",
   "nbconvert_exporter": "python",
   "pygments_lexer": "ipython3",
   "version": "3.8.3"
  }
 },
 "nbformat": 4,
 "nbformat_minor": 4
}
