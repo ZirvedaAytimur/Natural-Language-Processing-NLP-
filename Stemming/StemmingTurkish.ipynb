{
 "cells": [
  {
   "cell_type": "code",
   "execution_count": 1,
   "metadata": {},
   "outputs": [],
   "source": [
    "from snowballstemmer import TurkishStemmer\n",
    "from nltk.tokenize import word_tokenize, sent_tokenize"
   ]
  },
  {
   "cell_type": "code",
   "execution_count": 2,
   "metadata": {},
   "outputs": [],
   "source": [
    "turkStem=TurkishStemmer()"
   ]
  },
  {
   "cell_type": "code",
   "execution_count": 3,
   "metadata": {},
   "outputs": [
    {
     "name": "stdout",
     "output_type": "stream",
     "text": [
      "ilişkilendiremedik\n",
      "kale\n",
      "gözlük\n",
      "gözle\n"
     ]
    }
   ],
   "source": [
    "print(turkStem.stemWord(\"ilişkilendiremediklerimiz\"))\n",
    "print(turkStem.stemWord(\"kalem\"))\n",
    "print(turkStem.stemWord(\"gözlük\"))\n",
    "print(turkStem.stemWord(\"gözlem\"))"
   ]
  },
  {
   "cell_type": "code",
   "execution_count": 4,
   "metadata": {},
   "outputs": [],
   "source": [
    "text = \"Arabamız kelimesinde arab köküne kadar gidebiliyor ancak asıl gövde arabadır.\""
   ]
  },
  {
   "cell_type": "code",
   "execution_count": 5,
   "metadata": {},
   "outputs": [
    {
     "name": "stdout",
     "output_type": "stream",
     "text": [
      "Araba\n",
      "kelime\n",
      "arap\n",
      "kök\n",
      "kadar\n",
      "gidebiliyor\n",
      "ancak\n",
      "asıl\n",
      "göv\n",
      "arap\n",
      ".\n"
     ]
    }
   ],
   "source": [
    "for token in word_tokenize(text):\n",
    "    print(turkStem.stemWord(token))"
   ]
  },
  {
   "cell_type": "code",
   "execution_count": null,
   "metadata": {},
   "outputs": [],
   "source": []
  }
 ],
 "metadata": {
  "kernelspec": {
   "display_name": "Python 3",
   "language": "python",
   "name": "python3"
  },
  "language_info": {
   "codemirror_mode": {
    "name": "ipython",
    "version": 3
   },
   "file_extension": ".py",
   "mimetype": "text/x-python",
   "name": "python",
   "nbconvert_exporter": "python",
   "pygments_lexer": "ipython3",
   "version": "3.8.3"
  }
 },
 "nbformat": 4,
 "nbformat_minor": 4
}
